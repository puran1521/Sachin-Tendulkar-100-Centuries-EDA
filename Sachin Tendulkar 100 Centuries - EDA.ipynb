{
 "cells": [
  {
   "cell_type": "markdown",
   "id": "506db5e9",
   "metadata": {},
   "source": [
    "# Sachin Tendulkar - 100 Centuries EDA (Exploratory Data Analysis) "
   ]
  },
  {
   "cell_type": "markdown",
   "id": "46b2db76",
   "metadata": {},
   "source": [
    "# About Data Set"
   ]
  },
  {
   "cell_type": "markdown",
   "id": "a1466f6d",
   "metadata": {},
   "source": [
    "Sachin Ramesh Tendulkar is an Indian former international cricketer who captained the Indian national team. He is regarded as one of the greatest batsmen in the history of cricket. He was a right-handed top-order batsman in the Indian Cricket Team. He is known for his batting skills, technique, vision, and game reading. He is the all-time most runscorer in both ODI and Test Format with more than 18000 runs and 15000 runs respectively in total. He also holds the record for receiving the most Man-of-the-Match awards in International Cricket in all forms combined. He is the only batsman in the world to score 100 international centuries. This dataset consists of all the 100s scored by Sachin during his international career. "
   ]
  },
  {
   "cell_type": "markdown",
   "id": "33a71103",
   "metadata": {},
   "source": [
    "The dataset description is as follows: \n",
    "\n",
    "S.No: International Century Number\n",
    "\n",
    "Score: Number of runs scored by Sachin in the match\n",
    "\n",
    "Dismissed: Whether Sachin is dismissed or not?\n",
    "\n",
    "Captain: Is Sachin the captain of the match? \n",
    "\n",
    "POTM: Did Sachin win the player of the match for his performance? \n",
    "\n",
    "Against: The opposition team \n",
    "\n",
    "Position: Batting position of Sachin in that match \n",
    "\n",
    "Innings: In which innings of the match did Sachin score the century? \n",
    "\n",
    "Test: Test match number in the series \n",
    "\n",
    "Strike Rate: Number of runs scored per 100 balls \n",
    "\n",
    "Venue: The stadium where the match is played \n",
    "\n",
    "City: The city in which the stadium s present \n",
    "\n",
    "H-A:Is the game played at home or away or ata neutral venue? \n",
    "\n",
    "Date: The date on which Sachin scored that century \n",
    "\n",
    "Result: Result of the match \n"
   ]
  },
  {
   "cell_type": "code",
   "execution_count": 1,
   "id": "77e51942",
   "metadata": {},
   "outputs": [],
   "source": [
    "import pandas as pd \n",
    "import numpy as np \n",
    "import matplotlib.pyplot as plt \n",
    "import seaborn as sns \n",
    "%matplotlib inline"
   ]
  },
  {
   "cell_type": "code",
   "execution_count": 3,
   "id": "3320ea11",
   "metadata": {},
   "outputs": [
    {
     "data": {
      "text/html": [
       "<div>\n",
       "<style scoped>\n",
       "    .dataframe tbody tr th:only-of-type {\n",
       "        vertical-align: middle;\n",
       "    }\n",
       "\n",
       "    .dataframe tbody tr th {\n",
       "        vertical-align: top;\n",
       "    }\n",
       "\n",
       "    .dataframe thead th {\n",
       "        text-align: right;\n",
       "    }\n",
       "</style>\n",
       "<table border=\"1\" class=\"dataframe\">\n",
       "  <thead>\n",
       "    <tr style=\"text-align: right;\">\n",
       "      <th></th>\n",
       "      <th>S.No.</th>\n",
       "      <th>Score</th>\n",
       "      <th>Dismissed</th>\n",
       "      <th>Captain</th>\n",
       "      <th>POTM</th>\n",
       "      <th>Against</th>\n",
       "      <th>Position</th>\n",
       "      <th>Innings</th>\n",
       "      <th>Test</th>\n",
       "      <th>Strike Rate</th>\n",
       "      <th>Venue</th>\n",
       "      <th>City</th>\n",
       "      <th>H-A</th>\n",
       "      <th>Date</th>\n",
       "      <th>Result</th>\n",
       "    </tr>\n",
       "  </thead>\n",
       "  <tbody>\n",
       "    <tr>\n",
       "      <th>0</th>\n",
       "      <td>1</td>\n",
       "      <td>119</td>\n",
       "      <td>No</td>\n",
       "      <td>No</td>\n",
       "      <td>Yes</td>\n",
       "      <td>England</td>\n",
       "      <td>6</td>\n",
       "      <td>4</td>\n",
       "      <td>2.0</td>\n",
       "      <td>NaN</td>\n",
       "      <td>Old Trafford</td>\n",
       "      <td>Manchester</td>\n",
       "      <td>Away</td>\n",
       "      <td>8/9/1990</td>\n",
       "      <td>Drawn</td>\n",
       "    </tr>\n",
       "    <tr>\n",
       "      <th>1</th>\n",
       "      <td>2</td>\n",
       "      <td>148</td>\n",
       "      <td>No</td>\n",
       "      <td>No</td>\n",
       "      <td>No</td>\n",
       "      <td>Australia</td>\n",
       "      <td>6</td>\n",
       "      <td>2</td>\n",
       "      <td>3.0</td>\n",
       "      <td>NaN</td>\n",
       "      <td>Sydney Cricket Ground</td>\n",
       "      <td>Sydney</td>\n",
       "      <td>Away</td>\n",
       "      <td>1/2/1992</td>\n",
       "      <td>Drawn</td>\n",
       "    </tr>\n",
       "    <tr>\n",
       "      <th>2</th>\n",
       "      <td>3</td>\n",
       "      <td>114</td>\n",
       "      <td>Yes</td>\n",
       "      <td>No</td>\n",
       "      <td>No</td>\n",
       "      <td>Australia</td>\n",
       "      <td>4</td>\n",
       "      <td>2</td>\n",
       "      <td>5.0</td>\n",
       "      <td>NaN</td>\n",
       "      <td>WACA Ground</td>\n",
       "      <td>Perth</td>\n",
       "      <td>Away</td>\n",
       "      <td>2/1/1992</td>\n",
       "      <td>Lost</td>\n",
       "    </tr>\n",
       "    <tr>\n",
       "      <th>3</th>\n",
       "      <td>4</td>\n",
       "      <td>111</td>\n",
       "      <td>Yes</td>\n",
       "      <td>No</td>\n",
       "      <td>No</td>\n",
       "      <td>South Africa</td>\n",
       "      <td>4</td>\n",
       "      <td>2</td>\n",
       "      <td>2.0</td>\n",
       "      <td>NaN</td>\n",
       "      <td>Wanderers Stadium</td>\n",
       "      <td>Johannesburg</td>\n",
       "      <td>Away</td>\n",
       "      <td>11/26/1992</td>\n",
       "      <td>Drawn</td>\n",
       "    </tr>\n",
       "    <tr>\n",
       "      <th>4</th>\n",
       "      <td>5</td>\n",
       "      <td>165</td>\n",
       "      <td>Yes</td>\n",
       "      <td>No</td>\n",
       "      <td>Yes</td>\n",
       "      <td>England</td>\n",
       "      <td>4</td>\n",
       "      <td>1</td>\n",
       "      <td>2.0</td>\n",
       "      <td>NaN</td>\n",
       "      <td>M. A. Chidambaram Stadium</td>\n",
       "      <td>Chennai</td>\n",
       "      <td>Home</td>\n",
       "      <td>2/11/1993</td>\n",
       "      <td>Won</td>\n",
       "    </tr>\n",
       "    <tr>\n",
       "      <th>5</th>\n",
       "      <td>6</td>\n",
       "      <td>104</td>\n",
       "      <td>No</td>\n",
       "      <td>No</td>\n",
       "      <td>No</td>\n",
       "      <td>Sri Lanka</td>\n",
       "      <td>4</td>\n",
       "      <td>3</td>\n",
       "      <td>2.0</td>\n",
       "      <td>NaN</td>\n",
       "      <td>Sinhalese Sports Club Ground</td>\n",
       "      <td>Colombo</td>\n",
       "      <td>Away</td>\n",
       "      <td>7/27/1993</td>\n",
       "      <td>Won</td>\n",
       "    </tr>\n",
       "    <tr>\n",
       "      <th>6</th>\n",
       "      <td>7</td>\n",
       "      <td>142</td>\n",
       "      <td>Yes</td>\n",
       "      <td>No</td>\n",
       "      <td>No</td>\n",
       "      <td>Sri Lanka</td>\n",
       "      <td>4</td>\n",
       "      <td>1</td>\n",
       "      <td>1.0</td>\n",
       "      <td>NaN</td>\n",
       "      <td>K. D. Singh Babu Stadium</td>\n",
       "      <td>Lucknow</td>\n",
       "      <td>Home</td>\n",
       "      <td>1/18/1994</td>\n",
       "      <td>Won</td>\n",
       "    </tr>\n",
       "    <tr>\n",
       "      <th>7</th>\n",
       "      <td>8</td>\n",
       "      <td>110</td>\n",
       "      <td>Yes</td>\n",
       "      <td>No</td>\n",
       "      <td>Yes</td>\n",
       "      <td>Australia</td>\n",
       "      <td>2</td>\n",
       "      <td>1</td>\n",
       "      <td>NaN</td>\n",
       "      <td>84.61</td>\n",
       "      <td>R. Premadasa Stadium</td>\n",
       "      <td>Colombo</td>\n",
       "      <td>Neutral</td>\n",
       "      <td>9/9/1994</td>\n",
       "      <td>Won</td>\n",
       "    </tr>\n",
       "    <tr>\n",
       "      <th>8</th>\n",
       "      <td>9</td>\n",
       "      <td>115</td>\n",
       "      <td>Yes</td>\n",
       "      <td>No</td>\n",
       "      <td>Yes</td>\n",
       "      <td>New Zealand</td>\n",
       "      <td>2</td>\n",
       "      <td>2</td>\n",
       "      <td>NaN</td>\n",
       "      <td>84.55</td>\n",
       "      <td>IPCL Sports Complex Ground</td>\n",
       "      <td>Vadodara</td>\n",
       "      <td>Home</td>\n",
       "      <td>10/28/1994</td>\n",
       "      <td>Won</td>\n",
       "    </tr>\n",
       "    <tr>\n",
       "      <th>9</th>\n",
       "      <td>10</td>\n",
       "      <td>105</td>\n",
       "      <td>Yes</td>\n",
       "      <td>No</td>\n",
       "      <td>No</td>\n",
       "      <td>West Indies</td>\n",
       "      <td>2</td>\n",
       "      <td>1</td>\n",
       "      <td>NaN</td>\n",
       "      <td>78.35</td>\n",
       "      <td>Sawai Mansingh Stadium</td>\n",
       "      <td>Jaipur</td>\n",
       "      <td>Home</td>\n",
       "      <td>11/11/1994</td>\n",
       "      <td>Won</td>\n",
       "    </tr>\n",
       "  </tbody>\n",
       "</table>\n",
       "</div>"
      ],
      "text/plain": [
       "   S.No.  Score Dismissed Captain POTM       Against  Position  Innings  \\\n",
       "0      1    119        No      No  Yes       England         6        4   \n",
       "1      2    148        No      No   No     Australia         6        2   \n",
       "2      3    114       Yes      No   No     Australia         4        2   \n",
       "3      4    111       Yes      No   No  South Africa         4        2   \n",
       "4      5    165       Yes      No  Yes       England         4        1   \n",
       "5      6    104        No      No   No     Sri Lanka         4        3   \n",
       "6      7    142       Yes      No   No     Sri Lanka         4        1   \n",
       "7      8    110       Yes      No  Yes     Australia         2        1   \n",
       "8      9    115       Yes      No  Yes   New Zealand         2        2   \n",
       "9     10    105       Yes      No   No   West Indies         2        1   \n",
       "\n",
       "   Test   Strike Rate                         Venue          City      H-A  \\\n",
       "0    2.0          NaN                  Old Trafford    Manchester     Away   \n",
       "1    3.0          NaN         Sydney Cricket Ground        Sydney     Away   \n",
       "2    5.0          NaN                   WACA Ground         Perth     Away   \n",
       "3    2.0          NaN             Wanderers Stadium  Johannesburg     Away   \n",
       "4    2.0          NaN     M. A. Chidambaram Stadium       Chennai     Home   \n",
       "5    2.0          NaN  Sinhalese Sports Club Ground       Colombo     Away   \n",
       "6    1.0          NaN      K. D. Singh Babu Stadium       Lucknow     Home   \n",
       "7    NaN        84.61          R. Premadasa Stadium       Colombo  Neutral   \n",
       "8    NaN        84.55    IPCL Sports Complex Ground      Vadodara     Home   \n",
       "9    NaN        78.35        Sawai Mansingh Stadium        Jaipur     Home   \n",
       "\n",
       "        Date  Result  \n",
       "0    8/9/1990  Drawn  \n",
       "1    1/2/1992  Drawn  \n",
       "2    2/1/1992   Lost  \n",
       "3  11/26/1992  Drawn  \n",
       "4   2/11/1993    Won  \n",
       "5   7/27/1993    Won  \n",
       "6   1/18/1994    Won  \n",
       "7    9/9/1994    Won  \n",
       "8  10/28/1994    Won  \n",
       "9  11/11/1994    Won  "
      ]
     },
     "execution_count": 3,
     "metadata": {},
     "output_type": "execute_result"
    }
   ],
   "source": [
    "df = pd.read_csv(\"Sachin Tendulkar - 100 Centuries(1).csv\") \n",
    "df.head(10)"
   ]
  },
  {
   "cell_type": "code",
   "execution_count": 4,
   "id": "b965372c",
   "metadata": {},
   "outputs": [
    {
     "data": {
      "text/html": [
       "<div>\n",
       "<style scoped>\n",
       "    .dataframe tbody tr th:only-of-type {\n",
       "        vertical-align: middle;\n",
       "    }\n",
       "\n",
       "    .dataframe tbody tr th {\n",
       "        vertical-align: top;\n",
       "    }\n",
       "\n",
       "    .dataframe thead th {\n",
       "        text-align: right;\n",
       "    }\n",
       "</style>\n",
       "<table border=\"1\" class=\"dataframe\">\n",
       "  <thead>\n",
       "    <tr style=\"text-align: right;\">\n",
       "      <th></th>\n",
       "      <th>S.No.</th>\n",
       "      <th>Score</th>\n",
       "      <th>Dismissed</th>\n",
       "      <th>Captain</th>\n",
       "      <th>POTM</th>\n",
       "      <th>Against</th>\n",
       "      <th>Position</th>\n",
       "      <th>Innings</th>\n",
       "      <th>Test</th>\n",
       "      <th>Strike Rate</th>\n",
       "      <th>Venue</th>\n",
       "      <th>City</th>\n",
       "      <th>H-A</th>\n",
       "      <th>Date</th>\n",
       "      <th>Result</th>\n",
       "    </tr>\n",
       "  </thead>\n",
       "  <tbody>\n",
       "    <tr>\n",
       "      <th>90</th>\n",
       "      <td>91</td>\n",
       "      <td>100</td>\n",
       "      <td>Yes</td>\n",
       "      <td>No</td>\n",
       "      <td>No</td>\n",
       "      <td>South Africa</td>\n",
       "      <td>4</td>\n",
       "      <td>3</td>\n",
       "      <td>1.0</td>\n",
       "      <td>NaN</td>\n",
       "      <td>Vidarbha Cricket Association Ground</td>\n",
       "      <td>Nagpur</td>\n",
       "      <td>Home</td>\n",
       "      <td>2/6/2010</td>\n",
       "      <td>Lost</td>\n",
       "    </tr>\n",
       "    <tr>\n",
       "      <th>91</th>\n",
       "      <td>92</td>\n",
       "      <td>106</td>\n",
       "      <td>Yes</td>\n",
       "      <td>No</td>\n",
       "      <td>No</td>\n",
       "      <td>South Africa</td>\n",
       "      <td>4</td>\n",
       "      <td>2</td>\n",
       "      <td>2.0</td>\n",
       "      <td>NaN</td>\n",
       "      <td>Eden Gardens</td>\n",
       "      <td>Kolkata</td>\n",
       "      <td>Home</td>\n",
       "      <td>2/14/2010</td>\n",
       "      <td>Won</td>\n",
       "    </tr>\n",
       "    <tr>\n",
       "      <th>92</th>\n",
       "      <td>93</td>\n",
       "      <td>200</td>\n",
       "      <td>No</td>\n",
       "      <td>No</td>\n",
       "      <td>Yes</td>\n",
       "      <td>South Africa</td>\n",
       "      <td>2</td>\n",
       "      <td>1</td>\n",
       "      <td>NaN</td>\n",
       "      <td>136.05</td>\n",
       "      <td>Roop Singh Stadium</td>\n",
       "      <td>Gwalior</td>\n",
       "      <td>Home</td>\n",
       "      <td>2/24/2010</td>\n",
       "      <td>Won</td>\n",
       "    </tr>\n",
       "    <tr>\n",
       "      <th>93</th>\n",
       "      <td>94</td>\n",
       "      <td>203</td>\n",
       "      <td>Yes</td>\n",
       "      <td>No</td>\n",
       "      <td>No</td>\n",
       "      <td>Sri Lanka</td>\n",
       "      <td>4</td>\n",
       "      <td>2</td>\n",
       "      <td>2.0</td>\n",
       "      <td>NaN</td>\n",
       "      <td>Sinhalese Sports Club Ground</td>\n",
       "      <td>Colombo</td>\n",
       "      <td>Away</td>\n",
       "      <td>7/26/2010</td>\n",
       "      <td>Drawn</td>\n",
       "    </tr>\n",
       "    <tr>\n",
       "      <th>94</th>\n",
       "      <td>95</td>\n",
       "      <td>214</td>\n",
       "      <td>Yes</td>\n",
       "      <td>No</td>\n",
       "      <td>Yes</td>\n",
       "      <td>Australia</td>\n",
       "      <td>4</td>\n",
       "      <td>2</td>\n",
       "      <td>2.0</td>\n",
       "      <td>NaN</td>\n",
       "      <td>M. Chinnaswamy Stadium</td>\n",
       "      <td>Bangalore</td>\n",
       "      <td>Home</td>\n",
       "      <td>10/9/2010</td>\n",
       "      <td>Won</td>\n",
       "    </tr>\n",
       "    <tr>\n",
       "      <th>95</th>\n",
       "      <td>96</td>\n",
       "      <td>111</td>\n",
       "      <td>No</td>\n",
       "      <td>No</td>\n",
       "      <td>No</td>\n",
       "      <td>South Africa</td>\n",
       "      <td>5</td>\n",
       "      <td>3</td>\n",
       "      <td>1.0</td>\n",
       "      <td>NaN</td>\n",
       "      <td>SuperSport Park</td>\n",
       "      <td>Centurion</td>\n",
       "      <td>Away</td>\n",
       "      <td>12/16/2010</td>\n",
       "      <td>Lost</td>\n",
       "    </tr>\n",
       "    <tr>\n",
       "      <th>96</th>\n",
       "      <td>97</td>\n",
       "      <td>146</td>\n",
       "      <td>Yes</td>\n",
       "      <td>No</td>\n",
       "      <td>No</td>\n",
       "      <td>South Africa</td>\n",
       "      <td>4</td>\n",
       "      <td>2</td>\n",
       "      <td>3.0</td>\n",
       "      <td>NaN</td>\n",
       "      <td>Newlands Cricket Ground</td>\n",
       "      <td>Cape Town</td>\n",
       "      <td>Away</td>\n",
       "      <td>1/2/2011</td>\n",
       "      <td>Drawn</td>\n",
       "    </tr>\n",
       "    <tr>\n",
       "      <th>97</th>\n",
       "      <td>98</td>\n",
       "      <td>120</td>\n",
       "      <td>Yes</td>\n",
       "      <td>No</td>\n",
       "      <td>No</td>\n",
       "      <td>England</td>\n",
       "      <td>2</td>\n",
       "      <td>1</td>\n",
       "      <td>NaN</td>\n",
       "      <td>104.34</td>\n",
       "      <td>M. Chinnaswamy Stadium</td>\n",
       "      <td>Bangalore</td>\n",
       "      <td>Home</td>\n",
       "      <td>2/27/2011</td>\n",
       "      <td>Tied</td>\n",
       "    </tr>\n",
       "    <tr>\n",
       "      <th>98</th>\n",
       "      <td>99</td>\n",
       "      <td>111</td>\n",
       "      <td>Yes</td>\n",
       "      <td>No</td>\n",
       "      <td>No</td>\n",
       "      <td>South Africa</td>\n",
       "      <td>2</td>\n",
       "      <td>1</td>\n",
       "      <td>NaN</td>\n",
       "      <td>109.90</td>\n",
       "      <td>VCA Stadium</td>\n",
       "      <td>Nagpur</td>\n",
       "      <td>Home</td>\n",
       "      <td>3/12/2011</td>\n",
       "      <td>Lost</td>\n",
       "    </tr>\n",
       "    <tr>\n",
       "      <th>99</th>\n",
       "      <td>100</td>\n",
       "      <td>114</td>\n",
       "      <td>Yes</td>\n",
       "      <td>No</td>\n",
       "      <td>No</td>\n",
       "      <td>Bangladesh</td>\n",
       "      <td>2</td>\n",
       "      <td>1</td>\n",
       "      <td>NaN</td>\n",
       "      <td>77.55</td>\n",
       "      <td>Sher-e-Bangla National Stadium</td>\n",
       "      <td>Mirpur</td>\n",
       "      <td>Away</td>\n",
       "      <td>3/16/2012</td>\n",
       "      <td>Lost</td>\n",
       "    </tr>\n",
       "  </tbody>\n",
       "</table>\n",
       "</div>"
      ],
      "text/plain": [
       "    S.No.  Score Dismissed Captain POTM       Against  Position  Innings  \\\n",
       "90     91    100       Yes      No   No  South Africa         4        3   \n",
       "91     92    106       Yes      No   No  South Africa         4        2   \n",
       "92     93    200        No      No  Yes  South Africa         2        1   \n",
       "93     94    203       Yes      No   No     Sri Lanka         4        2   \n",
       "94     95    214       Yes      No  Yes     Australia         4        2   \n",
       "95     96    111        No      No   No  South Africa         5        3   \n",
       "96     97    146       Yes      No   No  South Africa         4        2   \n",
       "97     98    120       Yes      No   No       England         2        1   \n",
       "98     99    111       Yes      No   No  South Africa         2        1   \n",
       "99    100    114       Yes      No   No    Bangladesh         2        1   \n",
       "\n",
       "    Test   Strike Rate                                Venue       City   H-A  \\\n",
       "90    1.0          NaN  Vidarbha Cricket Association Ground     Nagpur  Home   \n",
       "91    2.0          NaN                         Eden Gardens    Kolkata  Home   \n",
       "92    NaN       136.05                   Roop Singh Stadium    Gwalior  Home   \n",
       "93    2.0          NaN         Sinhalese Sports Club Ground    Colombo  Away   \n",
       "94    2.0          NaN               M. Chinnaswamy Stadium  Bangalore  Home   \n",
       "95    1.0          NaN                      SuperSport Park  Centurion  Away   \n",
       "96    3.0          NaN              Newlands Cricket Ground  Cape Town  Away   \n",
       "97    NaN       104.34               M. Chinnaswamy Stadium  Bangalore  Home   \n",
       "98    NaN       109.90                          VCA Stadium     Nagpur  Home   \n",
       "99    NaN        77.55       Sher-e-Bangla National Stadium     Mirpur  Away   \n",
       "\n",
       "         Date  Result  \n",
       "90    2/6/2010   Lost  \n",
       "91   2/14/2010    Won  \n",
       "92   2/24/2010    Won  \n",
       "93   7/26/2010  Drawn  \n",
       "94   10/9/2010    Won  \n",
       "95  12/16/2010   Lost  \n",
       "96    1/2/2011  Drawn  \n",
       "97   2/27/2011   Tied  \n",
       "98   3/12/2011   Lost  \n",
       "99   3/16/2012   Lost  "
      ]
     },
     "execution_count": 4,
     "metadata": {},
     "output_type": "execute_result"
    }
   ],
   "source": [
    "df.tail(10)"
   ]
  },
  {
   "cell_type": "code",
   "execution_count": 5,
   "id": "b7e4a796",
   "metadata": {},
   "outputs": [
    {
     "name": "stdout",
     "output_type": "stream",
     "text": [
      "<class 'pandas.core.frame.DataFrame'>\n",
      "RangeIndex: 100 entries, 0 to 99\n",
      "Data columns (total 15 columns):\n",
      " #   Column       Non-Null Count  Dtype  \n",
      "---  ------       --------------  -----  \n",
      " 0   S.No.        100 non-null    int64  \n",
      " 1   Score        100 non-null    int64  \n",
      " 2   Dismissed    100 non-null    object \n",
      " 3   Captain      100 non-null    object \n",
      " 4   POTM         100 non-null    object \n",
      " 5   Against      100 non-null    object \n",
      " 6   Position     100 non-null    int64  \n",
      " 7   Innings      100 non-null    int64  \n",
      " 8   Test         51 non-null     float64\n",
      " 9   Strike Rate  49 non-null     float64\n",
      " 10  Venue        100 non-null    object \n",
      " 11  City         100 non-null    object \n",
      " 12  H-A          100 non-null    object \n",
      " 13  Date         100 non-null    object \n",
      " 14  Result       100 non-null    object \n",
      "dtypes: float64(2), int64(4), object(9)\n",
      "memory usage: 11.8+ KB\n"
     ]
    }
   ],
   "source": [
    "df.info()"
   ]
  },
  {
   "cell_type": "code",
   "execution_count": 7,
   "id": "a8f6bc7c",
   "metadata": {},
   "outputs": [
    {
     "data": {
      "text/plain": [
       "Index(['S.No.', 'Score', 'Dismissed', 'Captain', 'POTM', 'Against', 'Position',\n",
       "       'Innings', 'Test ', 'Strike Rate', 'Venue', 'City', 'H-A', 'Date ',\n",
       "       'Result'],\n",
       "      dtype='object')"
      ]
     },
     "execution_count": 7,
     "metadata": {},
     "output_type": "execute_result"
    }
   ],
   "source": [
    "df.columns"
   ]
  },
  {
   "cell_type": "code",
   "execution_count": 8,
   "id": "f78d6092",
   "metadata": {},
   "outputs": [
    {
     "data": {
      "text/html": [
       "<div>\n",
       "<style scoped>\n",
       "    .dataframe tbody tr th:only-of-type {\n",
       "        vertical-align: middle;\n",
       "    }\n",
       "\n",
       "    .dataframe tbody tr th {\n",
       "        vertical-align: top;\n",
       "    }\n",
       "\n",
       "    .dataframe thead th {\n",
       "        text-align: right;\n",
       "    }\n",
       "</style>\n",
       "<table border=\"1\" class=\"dataframe\">\n",
       "  <thead>\n",
       "    <tr style=\"text-align: right;\">\n",
       "      <th></th>\n",
       "      <th>S.No.</th>\n",
       "      <th>Score</th>\n",
       "      <th>Position</th>\n",
       "      <th>Innings</th>\n",
       "      <th>Test</th>\n",
       "      <th>Strike Rate</th>\n",
       "    </tr>\n",
       "  </thead>\n",
       "  <tbody>\n",
       "    <tr>\n",
       "      <th>count</th>\n",
       "      <td>100.000000</td>\n",
       "      <td>100.00000</td>\n",
       "      <td>100.000000</td>\n",
       "      <td>100.000000</td>\n",
       "      <td>51.000000</td>\n",
       "      <td>49.000000</td>\n",
       "    </tr>\n",
       "    <tr>\n",
       "      <th>mean</th>\n",
       "      <td>50.500000</td>\n",
       "      <td>135.57000</td>\n",
       "      <td>3.140000</td>\n",
       "      <td>1.630000</td>\n",
       "      <td>2.000000</td>\n",
       "      <td>100.810000</td>\n",
       "    </tr>\n",
       "    <tr>\n",
       "      <th>std</th>\n",
       "      <td>29.011492</td>\n",
       "      <td>33.33038</td>\n",
       "      <td>1.206213</td>\n",
       "      <td>0.786952</td>\n",
       "      <td>0.979796</td>\n",
       "      <td>16.102412</td>\n",
       "    </tr>\n",
       "    <tr>\n",
       "      <th>min</th>\n",
       "      <td>1.000000</td>\n",
       "      <td>100.00000</td>\n",
       "      <td>1.000000</td>\n",
       "      <td>1.000000</td>\n",
       "      <td>1.000000</td>\n",
       "      <td>72.140000</td>\n",
       "    </tr>\n",
       "    <tr>\n",
       "      <th>25%</th>\n",
       "      <td>25.750000</td>\n",
       "      <td>111.00000</td>\n",
       "      <td>2.000000</td>\n",
       "      <td>1.000000</td>\n",
       "      <td>1.000000</td>\n",
       "      <td>88.490000</td>\n",
       "    </tr>\n",
       "    <tr>\n",
       "      <th>50%</th>\n",
       "      <td>50.500000</td>\n",
       "      <td>124.00000</td>\n",
       "      <td>4.000000</td>\n",
       "      <td>1.000000</td>\n",
       "      <td>2.000000</td>\n",
       "      <td>97.700000</td>\n",
       "    </tr>\n",
       "    <tr>\n",
       "      <th>75%</th>\n",
       "      <td>75.250000</td>\n",
       "      <td>149.00000</td>\n",
       "      <td>4.000000</td>\n",
       "      <td>2.000000</td>\n",
       "      <td>2.500000</td>\n",
       "      <td>110.150000</td>\n",
       "    </tr>\n",
       "    <tr>\n",
       "      <th>max</th>\n",
       "      <td>100.000000</td>\n",
       "      <td>248.00000</td>\n",
       "      <td>6.000000</td>\n",
       "      <td>4.000000</td>\n",
       "      <td>5.000000</td>\n",
       "      <td>138.610000</td>\n",
       "    </tr>\n",
       "  </tbody>\n",
       "</table>\n",
       "</div>"
      ],
      "text/plain": [
       "            S.No.      Score    Position     Innings      Test   Strike Rate\n",
       "count  100.000000  100.00000  100.000000  100.000000  51.000000    49.000000\n",
       "mean    50.500000  135.57000    3.140000    1.630000   2.000000   100.810000\n",
       "std     29.011492   33.33038    1.206213    0.786952   0.979796    16.102412\n",
       "min      1.000000  100.00000    1.000000    1.000000   1.000000    72.140000\n",
       "25%     25.750000  111.00000    2.000000    1.000000   1.000000    88.490000\n",
       "50%     50.500000  124.00000    4.000000    1.000000   2.000000    97.700000\n",
       "75%     75.250000  149.00000    4.000000    2.000000   2.500000   110.150000\n",
       "max    100.000000  248.00000    6.000000    4.000000   5.000000   138.610000"
      ]
     },
     "execution_count": 8,
     "metadata": {},
     "output_type": "execute_result"
    }
   ],
   "source": [
    "df.describe()"
   ]
  },
  {
   "cell_type": "markdown",
   "id": "6c44db17",
   "metadata": {},
   "source": [
    "# Observation: "
   ]
  },
  {
   "cell_type": "markdown",
   "id": "83d2ec19",
   "metadata": {},
   "source": [
    "1. His average score has been 135 and average strike-rate has been 100.81 \n",
    "2. His highest score has been 248 and highest strike-rate was 138.61"
   ]
  },
  {
   "cell_type": "markdown",
   "id": "48056eb3",
   "metadata": {},
   "source": [
    "# In Data Analysis What All Things We Do "
   ]
  },
  {
   "cell_type": "markdown",
   "id": "9c4d48b7",
   "metadata": {},
   "source": [
    "1. Missing values.\n",
    "2. Explore about the Numerical Variables. \n",
    "3. Explore about Categorical Variables.\n",
    "4. Finding Relationship between features. "
   ]
  },
  {
   "cell_type": "code",
   "execution_count": 9,
   "id": "d3c2dffd",
   "metadata": {},
   "outputs": [
    {
     "data": {
      "text/plain": [
       "S.No.           0\n",
       "Score           0\n",
       "Dismissed       0\n",
       "Captain         0\n",
       "POTM            0\n",
       "Against         0\n",
       "Position        0\n",
       "Innings         0\n",
       "Test           49\n",
       "Strike Rate    51\n",
       "Venue           0\n",
       "City            0\n",
       "H-A             0\n",
       "Date            0\n",
       "Result          0\n",
       "dtype: int64"
      ]
     },
     "execution_count": 9,
     "metadata": {},
     "output_type": "execute_result"
    }
   ],
   "source": [
    "df.isnull(). sum()"
   ]
  },
  {
   "cell_type": "markdown",
   "id": "6bcbeac8",
   "metadata": {},
   "source": [
    "# Heat Map of above Data"
   ]
  },
  {
   "cell_type": "code",
   "execution_count": 10,
   "id": "4646b682",
   "metadata": {},
   "outputs": [
    {
     "data": {
      "text/plain": [
       "<AxesSubplot: >"
      ]
     },
     "execution_count": 10,
     "metadata": {},
     "output_type": "execute_result"
    },
    {
     "data": {
      "image/png": "[encoded data removed]",
      "text/plain": [
       "<Figure size 640x480 with 2 Axes>"
      ]
     },
     "metadata": {},
     "output_type": "display_data"
    }
   ],
   "source": [
    "import matplotlib \n",
    "sns.heatmap(df.isnull(),yticklabels=False,cbar=True, cmap=\"viridis\")"
   ]
  },
  {
   "cell_type": "markdown",
   "id": "3a7ee214",
   "metadata": {},
   "source": [
    "# Observation:"
   ]
  },
  {
   "cell_type": "markdown",
   "id": "83f76dde",
   "metadata": {},
   "source": [
    "1.1n 49 innings, his test match no. was not available.\n",
    "\n",
    "2.In 51 innings, his strike rate was not available."
   ]
  },
  {
   "cell_type": "code",
   "execution_count": 11,
   "id": "640ad840",
   "metadata": {},
   "outputs": [
    {
     "data": {
      "text/plain": [
       "Colombo              10\n",
       "Sharjah               7\n",
       "Nagpur                6\n",
       "Chennai               5\n",
       "Ahmedabad             4\n",
       "Sydney                4\n",
       "Bangalore             4\n",
       "Hyderabad             3\n",
       "Vadodara              3\n",
       "Mirpur                3\n",
       "New Delhi             3\n",
       "Kolkata               3\n",
       "Bristol               2\n",
       "Cape Town             2\n",
       "Dhaka                 2\n",
       "Gwalior               2\n",
       "Mumbai                2\n",
       "Chittagong            2\n",
       "Johannesburg          2\n",
       "Paarl                 1\n",
       "Multan                1\n",
       "Peshawar              1\n",
       "Rawalpindi            1\n",
       "Kuala Lumpur          1\n",
       "Adelaide              1\n",
       "Pietermaritzburg      1\n",
       "Christchurch          1\n",
       "Leeds                 1\n",
       "Hamilton              1\n",
       "Chester-le-Street     1\n",
       "Port of Spain         1\n",
       "Bloemfontein          1\n",
       "Manchester            1\n",
       "Harare                1\n",
       "Nottingham            1\n",
       "Perth                 1\n",
       "Lucknow               1\n",
       "Jaipur                1\n",
       "Cuttack               1\n",
       "Singapore             1\n",
       "Birmingham            1\n",
       "Benoni                1\n",
       "Indore                1\n",
       "Kanpur                1\n",
       "Bulawayo              1\n",
       "Wellington            1\n",
       "Mohali                1\n",
       "Melbourne             1\n",
       "Jodhpur               1\n",
       "Centurion             1\n",
       "Name: City, dtype: int64"
      ]
     },
     "execution_count": 11,
     "metadata": {},
     "output_type": "execute_result"
    }
   ],
   "source": [
    "df.City.value_counts()"
   ]
  },
  {
   "cell_type": "markdown",
   "id": "d0f6b312",
   "metadata": {},
   "source": [
    "# Observation: "
   ]
  },
  {
   "cell_type": "markdown",
   "id": "aa0b8af9",
   "metadata": {},
   "source": [
    "1. His 10% centuries(most) has comed outside India in Colombo, Sritanka. \n",
    "2. In India, he has scored most centuries(6) in Nagpur City. \n",
    "3. He has able to score only 2 centuries at his hometown i.e. Mumbai. "
   ]
  },
  {
   "cell_type": "code",
   "execution_count": 12,
   "id": "b45566a0",
   "metadata": {},
   "outputs": [
    {
     "data": {
      "text/plain": [
       "Sharjah Cricket Association Stadium       7\n",
       "Vidarbha Cricket Association Ground       5\n",
       "M. A. Chidambaram Stadium                 5\n",
       "Sinhalese Sports Club Ground              5\n",
       "R. Premadasa Stadium                      5\n",
       "M. Chinnaswamy Stadium                    4\n",
       "Sydney Cricket Ground                     4\n",
       "Sardar Patel Stadium                      4\n",
       "Sher-e-Bangla National Stadium            3\n",
       "Feroz Shah Kotla Ground                   3\n",
       "Eden Gardens                              3\n",
       "IPCL Sports Complex Ground                3\n",
       "Lal Bahadur Shastri Stadium               2\n",
       "Roop Singh Stadium                        2\n",
       "County Ground                             2\n",
       "Newlands Cricket Ground                   2\n",
       "Bangabandhu National Stadium              2\n",
       "Wankhede Stadium                          2\n",
       "Multan Cricket Stadium                    1\n",
       "City Oval                                 1\n",
       "Headingley                                1\n",
       "Rawalpindi Cricket Stadium                1\n",
       "Riverside Ground                          1\n",
       "Old Trafford                              1\n",
       "Arbab Niaz Stadium                        1\n",
       "Kinrara Academy Oval                      1\n",
       "Goodyear Park                             1\n",
       "Bir Shrestha Shahid Ruhul Amin Stadium    1\n",
       "Adelaide Oval                             1\n",
       "AMI Stadium                               1\n",
       "Seddon Park                               1\n",
       "Rajiv Gandhi International Stadium        1\n",
       "Zohur Ahmed Chowdhury Stadium             1\n",
       "SuperSport Park                           1\n",
       "Queen's Park Oval                         1\n",
       "Punjab Cricket Association Stadium        1\n",
       "Boland Park                               1\n",
       "Trent Bridge                              1\n",
       "WACA Ground                               1\n",
       "Wanderers Stadium                         1\n",
       "K. D. Singh Babu Stadium                  1\n",
       "Sawai Mansingh Stadium                    1\n",
       "Barabati Stadium                          1\n",
       "Padang                                    1\n",
       "Edgbaston                                 1\n",
       "Willowmoore Park                          1\n",
       "New Wanderers Stadium                     1\n",
       "Green Park Stadium                        1\n",
       "Queens Sports Club                        1\n",
       "Basin Reserve                             1\n",
       "Melbourne Cricket Ground                  1\n",
       "Barkatullah Khan Stadium                  1\n",
       "Nehru Stadium                             1\n",
       "Harare Sports Club                        1\n",
       "VCA Stadium                               1\n",
       "Name: Venue, dtype: int64"
      ]
     },
     "execution_count": 12,
     "metadata": {},
     "output_type": "execute_result"
    }
   ],
   "source": [
    "df .Venue.value_counts()"
   ]
  },
  {
   "cell_type": "markdown",
   "id": "73532b02",
   "metadata": {},
   "source": [
    "# Observation: "
   ]
  },
  {
   "cell_type": "markdown",
   "id": "0c4648b9",
   "metadata": {},
   "source": [
    "1. Sharjah cricket stadium has been very good for Sachin as he has scored 7 centuries(most) \n",
    "2. In India, he has scored most centuries(5) at Vidarbha Cricket Association ground. \n"
   ]
  },
  {
   "cell_type": "code",
   "execution_count": 13,
   "id": "61a2dcf7",
   "metadata": {},
   "outputs": [
    {
     "data": {
      "text/plain": [
       "Australia       20\n",
       "Sri Lanka       17\n",
       "South Africa    12\n",
       "England          9\n",
       "New Zealand      9\n",
       "Zimbabwe         8\n",
       "West Indies      7\n",
       "Pakistan         7\n",
       "Bangladesh       6\n",
       "Kenya            4\n",
       "Namibia          1\n",
       "Name: Against, dtype: int64"
      ]
     },
     "execution_count": 13,
     "metadata": {},
     "output_type": "execute_result"
    }
   ],
   "source": [
    "df.Against .value_counts()"
   ]
  },
  {
   "cell_type": "markdown",
   "id": "f67331b6",
   "metadata": {},
   "source": [
    "# Observation: "
   ]
  },
  {
   "cell_type": "markdown",
   "id": "b1b516f4",
   "metadata": {},
   "source": [
    "1. Sachin has scored most centuries against team Australia i.e. '20'.\n",
    "2. He was able to score 1 century against team Namibia. \n",
    "3. He has scored 50% centuries against the SENA countries (South Africa England,New Zealand Australia). \n"
   ]
  },
  {
   "cell_type": "code",
   "execution_count": 14,
   "id": "b3ae74fd",
   "metadata": {},
   "outputs": [
    {
     "data": {
      "text/plain": [
       "([<matplotlib.patches.Wedge at 0x18f714be670>,\n",
       "  <matplotlib.patches.Wedge at 0x18f714beca0>,\n",
       "  <matplotlib.patches.Wedge at 0x18f714cf3a0>,\n",
       "  <matplotlib.patches.Wedge at 0x18f714cfa30>,\n",
       "  <matplotlib.patches.Wedge at 0x18f714dd100>],\n",
       " [Text(-0.10351904621929765, 1.095118170367859, 'Won'),\n",
       "  Text(-0.6182918791840073, -0.9097885205557988, 'Lost'),\n",
       "  Text(0.8018653618515056, -0.7530019531599862, 'Drawn'),\n",
       "  Text(1.0951181443201643, -0.10351932177501966, 'N/R'),\n",
       "  Text(1.099457210765344, -0.034552014356474946, 'Tied')],\n",
       " [Text(-0.05646493430143508, 0.597337183837014, '53%'),\n",
       "  Text(-0.33725011591854936, -0.4962482839395266, '25%'),\n",
       "  Text(0.43738110646445755, -0.41072833808726517, '20%'),\n",
       "  Text(0.5973371696291804, -0.05646508460455617, '1%'),\n",
       "  Text(0.599703933144733, -0.018846553285349968, '1%')])"
      ]
     },
     "execution_count": 14,
     "metadata": {},
     "output_type": "execute_result"
    },
    {
     "data": {
      "image/png": "[encoded data removed]",
      "text/plain": [
       "<Figure size 640x480 with 1 Axes>"
      ]
     },
     "metadata": {},
     "output_type": "display_data"
    }
   ],
   "source": [
    "Result_name = df.Result.value_counts().index\n",
    "Result_val = df.Result.value_counts().values \n",
    "plt.pie(Result_val, labels=Result_name, autopct = \"%1.f%%\")"
   ]
  },
  {
   "cell_type": "markdown",
   "id": "a634d345",
   "metadata": {},
   "source": [
    "# Observation:"
   ]
  },
  {
   "cell_type": "markdown",
   "id": "4da49fbb",
   "metadata": {},
   "source": [
    "1. Indian team didn't won 25 times, when he scored a century. \n",
    "2. His 53 centuries contributed in team India's win. "
   ]
  },
  {
   "cell_type": "code",
   "execution_count": 15,
   "id": "c5eb78d1",
   "metadata": {},
   "outputs": [
    {
     "data": {
      "text/plain": [
       "([<matplotlib.patches.Wedge at 0x18f71523760>,\n",
       "  <matplotlib.patches.Wedge at 0x18f71523d90>],\n",
       " [Text(-0.6182917088228987, 0.90978863633311, 'Yes'),\n",
       "  Text(0.6182917088228985, -0.9097886363331101, 'No')],\n",
       " [Text(-0.33725002299430834, 0.49624834709078725, '69%'),\n",
       "  Text(0.3372500229943083, -0.4962483470907873, '31%')])"
      ]
     },
     "execution_count": 15,
     "metadata": {},
     "output_type": "execute_result"
    },
    {
     "data": {
      "image/png": "[encoded data removed]",
      "text/plain": [
       "<Figure size 640x480 with 1 Axes>"
      ]
     },
     "metadata": {},
     "output_type": "display_data"
    }
   ],
   "source": [
    "dismissed_cn = df.Dismissed.value_counts().index \n",
    "dismissed_vl = df.Dismissed.value_counts().values \n",
    "plt.pie(dismissed_vl, labels=dismissed_cn, autopct=\"%1.f%%\")"
   ]
  },
  {
   "cell_type": "markdown",
   "id": "2df65716",
   "metadata": {},
   "source": [
    "# Observation: "
   ]
  },
  {
   "cell_type": "markdown",
   "id": "f6efff70",
   "metadata": {},
   "source": [
    "1. Only 13 centuries have scored by him as a captain. "
   ]
  },
  {
   "cell_type": "code",
   "execution_count": 16,
   "id": "1566531d",
   "metadata": {},
   "outputs": [
    {
     "data": {
      "text/plain": [
       "([<matplotlib.patches.Wedge at 0x18f7156e610>,\n",
       "  <matplotlib.patches.Wedge at 0x18f7156eb80>,\n",
       "  <matplotlib.patches.Wedge at 0x18f7157f1f0>,\n",
       "  <matplotlib.patches.Wedge at 0x18f7157f880>,\n",
       "  <matplotlib.patches.Wedge at 0x18f7157ff40>],\n",
       " [Text(0.0690696084852792, 1.0978293989430645, '4'),\n",
       "  Text(-0.46835726917914405, -0.9953097349102213, '2'),\n",
       "  Text(0.9097886146248665, -0.6182917407656086, '1'),\n",
       "  Text(1.056323047205019, -0.3068902408736771, '5'),\n",
       "  Text(1.09782939975141, -0.06906959563700323, '6')],\n",
       " [Text(0.03767433190106138, 0.598816035787126, '48%'),\n",
       "  Text(-0.25546760137044217, -0.5428962190419389, '40%'),\n",
       "  Text(0.49624833524992706, -0.3372500404176046, '5%'),\n",
       "  Text(0.5761762075663739, -0.1673946768401875, '5%'),\n",
       "  Text(0.5988160362280417, -0.037674324892910845, '2%')])"
      ]
     },
     "execution_count": 16,
     "metadata": {},
     "output_type": "execute_result"
    },
    {
     "data": {
      "image/png": "[encoded data removed]",
      "text/plain": [
       "<Figure size 640x480 with 1 Axes>"
      ]
     },
     "metadata": {},
     "output_type": "display_data"
    }
   ],
   "source": [
    "position_cn = df.Position.value_counts().index \n",
    "position_vl = df.Position.value_counts().values \n",
    "plt.pie(position_vl, labels=position_cn, autopct=\"%1.F%%\")"
   ]
  },
  {
   "cell_type": "markdown",
   "id": "e9a45629",
   "metadata": {},
   "source": [
    "# Observation: "
   ]
  },
  {
   "cell_type": "markdown",
   "id": "5837608d",
   "metadata": {},
   "source": [
    "1. He has scored most centuries at position 4 i.e. 48. \n",
    "2. As an opener he has scored total 45 centuries. "
   ]
  },
  {
   "cell_type": "code",
   "execution_count": 18,
   "id": "2fab73c0",
   "metadata": {},
   "outputs": [
    {
     "data": {
      "text/plain": [
       "([<matplotlib.patches.Wedge at 0x18f715c9d00>,\n",
       "  <matplotlib.patches.Wedge at 0x18f715db340>],\n",
       " [Text(-0.20611945413751356, 1.080515974257694, 'No'),\n",
       "  Text(0.20611945413751367, -1.080515974257694, 'Yes')],\n",
       " [Text(-0.11242879316591647, 0.5893723495951058, '56%'),\n",
       "  Text(0.11242879316591654, -0.5893723495951058, '44%')])"
      ]
     },
     "execution_count": 18,
     "metadata": {},
     "output_type": "execute_result"
    },
    {
     "data": {
      "image/png": "[encoded data removed]",
      "text/plain": [
       "<Figure size 640x480 with 1 Axes>"
      ]
     },
     "metadata": {},
     "output_type": "display_data"
    }
   ],
   "source": [
    "potm_cn = df.POTM.value_counts().index \n",
    "potm_vl = df.POTM.value_counts().values \n",
    "plt.pie(potm_vl, labels=potm_cn, autopct = \"%1.f%%\")\n"
   ]
  },
  {
   "cell_type": "markdown",
   "id": "0dbdf0e5",
   "metadata": {},
   "source": [
    "# Observation:"
   ]
  },
  {
   "cell_type": "markdown",
   "id": "13b61614",
   "metadata": {},
   "source": [
    "1. He has been awarded Player of the Match for 44 times when he scored a century. "
   ]
  },
  {
   "cell_type": "code",
   "execution_count": 20,
   "id": "c80e6d89",
   "metadata": {},
   "outputs": [
    {
     "data": {
      "text/plain": [
       "<AxesSubplot: >"
      ]
     },
     "execution_count": 20,
     "metadata": {},
     "output_type": "execute_result"
    },
    {
     "data": {
      "image/png": "[encoded data removed]",
      "text/plain": [
       "<Figure size 2000x1000 with 1 Axes>"
      ]
     },
     "metadata": {},
     "output_type": "display_data"
    }
   ],
   "source": [
    "Score_ct = df.Score.value_counts().index \n",
    "Score_vl = df.Score.value_counts().values \n",
    "matplotlib.rcParams['figure.figsize'] = (20,10) \n",
    "sns.barplot(x = Score_ct, y = Score_vl)"
   ]
  },
  {
   "cell_type": "markdown",
   "id": "db5414a1",
   "metadata": {},
   "source": [
    "# Observation: "
   ]
  },
  {
   "cell_type": "markdown",
   "id": "c66c8b23",
   "metadata": {},
   "source": [
    "1. He has scored a perfect 100 about eight times. \n",
    "2. Next most frequent score scored is 122 about 5 times."
   ]
  },
  {
   "cell_type": "markdown",
   "id": "da721bb5",
   "metadata": {},
   "source": [
    "# Reference:"
   ]
  },
  {
   "cell_type": "markdown",
   "id": "5038abf6",
   "metadata": {},
   "source": [
    "https://www.kaggle.com/datasets/gadigevishalsai/sachin-tendulkar-100-centuries"
   ]
  },
  {
   "cell_type": "code",
   "execution_count": null,
   "id": "04666685",
   "metadata": {},
   "outputs": [],
   "source": []
  }
 ],
 "metadata": {
  "kernelspec": {
   "display_name": "Python 3 (ipykernel)",
   "language": "python",
   "name": "python3"
  },
  "language_info": {
   "codemirror_mode": {
    "name": "ipython",
    "version": 3
   },
   "file_extension": ".py",
   "mimetype": "text/x-python",
   "name": "python",
   "nbconvert_exporter": "python",
   "pygments_lexer": "ipython3",
   "version": "3.9.13"
  }
 },
 "nbformat": 4,
 "nbformat_minor": 5
}
